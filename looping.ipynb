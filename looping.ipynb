{
 "cells": [
  {
   "cell_type": "code",
   "execution_count": null,
   "id": "823480e5",
   "metadata": {},
   "outputs": [],
   "source": [
    "time= int(input(\"time:\"))\n",
    "notif={1:\"gud mrng\",2:\"gud ni8\",3:\"bye bye\"}\n",
    "if (time)<12:\n",
    "    print(notif[1])\n",
    "elif(time)==12:\n",
    "    print(notif[2]) \n",
    "elif ((time)>12) & ((time)<=24):\n",
    "    print(notif[3])"
   ]
  },
  {
   "cell_type": "code",
   "execution_count": null,
   "id": "b07a57c3",
   "metadata": {},
   "outputs": [],
   "source": [
    "student=int(input(\"mark:\"))\n",
    "view={1:\"good\",2:\"average\",3:\"fail\"}\n",
    "if ((student)>=51) & ((student)<=100):\n",
    "    print(view[1])\n",
    "elif(student)==50:\n",
    "    print(view[2])\n",
    "elif (student)<=49:\n",
    "    print(view[3])"
   ]
  },
  {
   "cell_type": "code",
   "execution_count": null,
   "id": "246b9981",
   "metadata": {},
   "outputs": [],
   "source": [
    "fare_per_km=1\n",
    "for dist in range(1,11):\n",
    "    if dist>2:\n",
    "        total_fare=dist*3\n",
    "        print(f\"your total for {dist}km is {total_fare}\")   "
   ]
  },
  {
   "cell_type": "code",
   "execution_count": null,
   "id": "40047364",
   "metadata": {},
   "outputs": [],
   "source": [
    "TCS=int(input(\"enter total seat capactiy:\"))\n",
    "counter=1\n",
    "while counter<=TCS/2:\n",
    "    print(f\"your journey is not confirmed\")\n",
    "    print(f\"only{counter}tickets booked\")\n",
    "    counter+=1\n",
    "print(\"50% of the tickets filled.The journey confirmed\")"
   ]
  },
  {
   "cell_type": "code",
   "execution_count": null,
   "id": "84ae70cf",
   "metadata": {},
   "outputs": [],
   "source": [
    "limit=int(input(\"enter limit:\"))\n",
    "counter=0\n",
    "m=0\n",
    "n=1\n",
    "while counter<=limit:\n",
    "    z=m+n\n",
    "    m=n\n",
    "    n=z\n",
    "    print(z)\n",
    "    counter+=1"
   ]
  },
  {
   "cell_type": "code",
   "execution_count": 2,
   "id": "7ff34036",
   "metadata": {},
   "outputs": [],
   "source": [
    "def fibnac(limit):\n",
    "    counter=0\n",
    "    m=0\n",
    "    n=1\n",
    "    while counter<=limit:\n",
    "        z=m+n\n",
    "        m=n\n",
    "        n=z\n",
    "        print(z)\n",
    "        counter+=1"
   ]
  },
  {
   "cell_type": "code",
   "execution_count": 8,
   "id": "76244706",
   "metadata": {
    "scrolled": true
   },
   "outputs": [
    {
     "name": "stdout",
     "output_type": "stream",
     "text": [
      "1\n",
      "2\n",
      "3\n",
      "5\n",
      "8\n",
      "13\n"
     ]
    }
   ],
   "source": [
    "fibnac(5)"
   ]
  }
 ],
 "metadata": {
  "kernelspec": {
   "display_name": "Python 3 (ipykernel)",
   "language": "python",
   "name": "python3"
  },
  "language_info": {
   "codemirror_mode": {
    "name": "ipython",
    "version": 3
   },
   "file_extension": ".py",
   "mimetype": "text/x-python",
   "name": "python",
   "nbconvert_exporter": "python",
   "pygments_lexer": "ipython3",
   "version": "3.10.8"
  }
 },
 "nbformat": 4,
 "nbformat_minor": 5
}
