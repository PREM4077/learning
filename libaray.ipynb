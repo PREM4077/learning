{
 "cells": [
  {
   "cell_type": "code",
   "execution_count": 2,
   "id": "c1829e33",
   "metadata": {},
   "outputs": [],
   "source": [
    "import numpy as np"
   ]
  },
  {
   "cell_type": "code",
   "execution_count": 8,
   "id": "3c6d8e62",
   "metadata": {},
   "outputs": [],
   "source": [
    "a = np.array([(1,2,3),(4,5,6),(7,8,9)])"
   ]
  },
  {
   "cell_type": "code",
   "execution_count": 9,
   "id": "4a619639",
   "metadata": {},
   "outputs": [
    {
     "name": "stdout",
     "output_type": "stream",
     "text": [
      "[[1 2 3]\n",
      " [4 5 6]\n",
      " [7 8 9]]\n"
     ]
    }
   ],
   "source": [
    "print(a)"
   ]
  },
  {
   "cell_type": "code",
   "execution_count": 10,
   "id": "54c9cdeb",
   "metadata": {},
   "outputs": [],
   "source": [
    "prem=np.transpose(a)"
   ]
  },
  {
   "cell_type": "code",
   "execution_count": 11,
   "id": "3119feb5",
   "metadata": {},
   "outputs": [
    {
     "name": "stdout",
     "output_type": "stream",
     "text": [
      "[[1 4 7]\n",
      " [2 5 8]\n",
      " [3 6 9]]\n"
     ]
    }
   ],
   "source": [
    "print(prem)"
   ]
  },
  {
   "cell_type": "code",
   "execution_count": 13,
   "id": "e266580e",
   "metadata": {},
   "outputs": [
    {
     "data": {
      "text/plain": [
       "array([1, 4, 7, 2, 5, 8, 3, 6, 9])"
      ]
     },
     "execution_count": 13,
     "metadata": {},
     "output_type": "execute_result"
    }
   ],
   "source": [
    "prem.ravel()"
   ]
  },
  {
   "cell_type": "code",
   "execution_count": 28,
   "id": "ef2badff",
   "metadata": {},
   "outputs": [
    {
     "data": {
      "text/plain": [
       "array([[1],\n",
       "       [2],\n",
       "       [3],\n",
       "       [4],\n",
       "       [5],\n",
       "       [6],\n",
       "       [7],\n",
       "       [8],\n",
       "       [9]])"
      ]
     },
     "execution_count": 28,
     "metadata": {},
     "output_type": "execute_result"
    }
   ],
   "source": [
    "a.reshape(9,1)"
   ]
  },
  {
   "cell_type": "code",
   "execution_count": 26,
   "id": "4097159a",
   "metadata": {},
   "outputs": [],
   "source": [
    "ze=np.zeros((2,2))"
   ]
  },
  {
   "cell_type": "code",
   "execution_count": 27,
   "id": "e03933cf",
   "metadata": {
    "scrolled": true
   },
   "outputs": [
    {
     "name": "stdout",
     "output_type": "stream",
     "text": [
      "[[0. 0.]\n",
      " [0. 0.]]\n"
     ]
    }
   ],
   "source": [
    "print(ze)"
   ]
  },
  {
   "cell_type": "code",
   "execution_count": 24,
   "id": "3811f2d5",
   "metadata": {
    "scrolled": true
   },
   "outputs": [
    {
     "name": "stdout",
     "output_type": "stream",
     "text": [
      "[[1. 1. 1. 1. 1.]\n",
      " [1. 1. 1. 1. 1.]\n",
      " [1. 1. 1. 1. 1.]\n",
      " [1. 1. 1. 1. 1.]\n",
      " [1. 1. 1. 1. 1.]]\n"
     ]
    }
   ],
   "source": [
    "one=np.ones((5,5))\n",
    "print(one)"
   ]
  },
  {
   "cell_type": "code",
   "execution_count": 31,
   "id": "116390f1",
   "metadata": {},
   "outputs": [
    {
     "data": {
      "text/plain": [
       "array([[0.25190196, 0.75275265, 0.40141705],\n",
       "       [0.19608846, 0.93506122, 0.59629418],\n",
       "       [0.53522282, 0.45532451, 0.32188338],\n",
       "       [0.69799275, 0.23556653, 0.88736981]])"
      ]
     },
     "execution_count": 31,
     "metadata": {},
     "output_type": "execute_result"
    }
   ],
   "source": [
    "np.random.random((4,3))"
   ]
  }
 ],
 "metadata": {
  "kernelspec": {
   "display_name": "Python 3 (ipykernel)",
   "language": "python",
   "name": "python3"
  },
  "language_info": {
   "codemirror_mode": {
    "name": "ipython",
    "version": 3
   },
   "file_extension": ".py",
   "mimetype": "text/x-python",
   "name": "python",
   "nbconvert_exporter": "python",
   "pygments_lexer": "ipython3",
   "version": "3.10.8"
  }
 },
 "nbformat": 4,
 "nbformat_minor": 5
}
