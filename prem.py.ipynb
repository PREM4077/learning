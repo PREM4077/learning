{
 "cells": [
  {
   "cell_type": "code",
   "execution_count": null,
   "id": "0259f984",
   "metadata": {},
   "outputs": [],
   "source": [
    "h1=88"
   ]
  },
  {
   "cell_type": "code",
   "execution_count": null,
   "id": "b7429dc1",
   "metadata": {},
   "outputs": [],
   "source": [
    "H1=88"
   ]
  },
  {
   "cell_type": "code",
   "execution_count": null,
   "id": "af4f050d",
   "metadata": {},
   "outputs": [],
   "source": [
    "o=55.5"
   ]
  },
  {
   "cell_type": "code",
   "execution_count": null,
   "id": "424ab781",
   "metadata": {},
   "outputs": [],
   "source": [
    "P=\"PREM\""
   ]
  },
  {
   "cell_type": "code",
   "execution_count": null,
   "id": "a7849b77",
   "metadata": {},
   "outputs": [],
   "source": [
    "type(P)"
   ]
  },
  {
   "cell_type": "code",
   "execution_count": null,
   "id": "8bbade7d",
   "metadata": {},
   "outputs": [],
   "source": [
    "c=0"
   ]
  },
  {
   "cell_type": "code",
   "execution_count": null,
   "id": "1122c1e7",
   "metadata": {},
   "outputs": [],
   "source": [
    "type(c)"
   ]
  },
  {
   "cell_type": "code",
   "execution_count": null,
   "id": "a7743b0b",
   "metadata": {},
   "outputs": [],
   "source": [
    "type(o)"
   ]
  },
  {
   "cell_type": "code",
   "execution_count": null,
   "id": "1b433a47",
   "metadata": {},
   "outputs": [],
   "source": [
    "print('vanakam')"
   ]
  },
  {
   "cell_type": "code",
   "execution_count": null,
   "id": "eb666c60",
   "metadata": {},
   "outputs": [],
   "source": [
    "name=(\"ram\",\"siva\",\"kumar\")"
   ]
  },
  {
   "cell_type": "code",
   "execution_count": null,
   "id": "bcc284a9",
   "metadata": {},
   "outputs": [],
   "source": [
    "type(name)"
   ]
  },
  {
   "cell_type": "code",
   "execution_count": null,
   "id": "be301f8b",
   "metadata": {},
   "outputs": [],
   "source": [
    "NAME=[\"ram\",\"siva\",\"kumar\"]"
   ]
  },
  {
   "cell_type": "code",
   "execution_count": null,
   "id": "0e905c33",
   "metadata": {},
   "outputs": [],
   "source": [
    "type(NAME)"
   ]
  },
  {
   "cell_type": "code",
   "execution_count": null,
   "id": "3d0c2026",
   "metadata": {},
   "outputs": [],
   "source": [
    "P1=range(5,20,2)"
   ]
  },
  {
   "cell_type": "code",
   "execution_count": null,
   "id": "1c67ca60",
   "metadata": {},
   "outputs": [],
   "source": [
    "print(P1)"
   ]
  },
  {
   "cell_type": "code",
   "execution_count": null,
   "id": "1848ee3e",
   "metadata": {},
   "outputs": [],
   "source": [
    "print(list(P1))"
   ]
  },
  {
   "cell_type": "code",
   "execution_count": null,
   "id": "ae10221b",
   "metadata": {},
   "outputs": [],
   "source": [
    "tamilnadu={1:\"Prem\",2:152,3:\"MCA\"}"
   ]
  },
  {
   "cell_type": "code",
   "execution_count": null,
   "id": "ddd1025a",
   "metadata": {},
   "outputs": [],
   "source": [
    "type(tamilnadu)"
   ]
  },
  {
   "cell_type": "code",
   "execution_count": null,
   "id": "bd409044",
   "metadata": {},
   "outputs": [],
   "source": [
    "tamilnadu[2]"
   ]
  },
  {
   "cell_type": "code",
   "execution_count": null,
   "id": "72351c60",
   "metadata": {},
   "outputs": [],
   "source": [
    "ind={2,3,4,5,'prem','praveen','ram'}"
   ]
  },
  {
   "cell_type": "code",
   "execution_count": null,
   "id": "a0ee7209",
   "metadata": {},
   "outputs": [],
   "source": [
    "type(ind)"
   ]
  },
  {
   "cell_type": "code",
   "execution_count": null,
   "id": "951d9fa7",
   "metadata": {},
   "outputs": [],
   "source": [
    "ind"
   ]
  },
  {
   "cell_type": "code",
   "execution_count": 1,
   "id": "938c9224",
   "metadata": {},
   "outputs": [],
   "source": [
    "ind=frozenset({2, 3, 4, 5, 'praveen', 'prem', 'ram'})"
   ]
  },
  {
   "cell_type": "code",
   "execution_count": 2,
   "id": "66792e5f",
   "metadata": {},
   "outputs": [
    {
     "data": {
      "text/plain": [
       "frozenset"
      ]
     },
     "execution_count": 2,
     "metadata": {},
     "output_type": "execute_result"
    }
   ],
   "source": [
    "type(ind)"
   ]
  },
  {
   "cell_type": "code",
   "execution_count": null,
   "id": "71702a4a",
   "metadata": {},
   "outputs": [],
   "source": []
  },
  {
   "cell_type": "code",
   "execution_count": null,
   "id": "485aa320",
   "metadata": {},
   "outputs": [],
   "source": []
  }
 ],
 "metadata": {
  "kernelspec": {
   "display_name": "Python 3 (ipykernel)",
   "language": "python",
   "name": "python3"
  },
  "language_info": {
   "codemirror_mode": {
    "name": "ipython",
    "version": 3
   },
   "file_extension": ".py",
   "mimetype": "text/x-python",
   "name": "python",
   "nbconvert_exporter": "python",
   "pygments_lexer": "ipython3",
   "version": "3.10.8"
  }
 },
 "nbformat": 4,
 "nbformat_minor": 5
}
