{
 "cells": [
  {
   "cell_type": "code",
   "execution_count": 1,
   "id": "47285156",
   "metadata": {},
   "outputs": [
    {
     "name": "stdout",
     "output_type": "stream",
     "text": [
      "Requirement already satisfied: bs4 in c:\\users\\admin\\anaconda3\\envs\\prem\\lib\\site-packages (0.0.1)\n",
      "Requirement already satisfied: beautifulsoup4 in c:\\users\\admin\\anaconda3\\envs\\prem\\lib\\site-packages (from bs4) (4.11.1)\n",
      "Requirement already satisfied: soupsieve>1.2 in c:\\users\\admin\\anaconda3\\envs\\prem\\lib\\site-packages (from beautifulsoup4->bs4) (2.3.2.post1)\n",
      "Note: you may need to restart the kernel to use updated packages.\n"
     ]
    }
   ],
   "source": [
    "pip install bs4"
   ]
  },
  {
   "cell_type": "code",
   "execution_count": 2,
   "id": "55d179d9",
   "metadata": {},
   "outputs": [
    {
     "name": "stdout",
     "output_type": "stream",
     "text": [
      "Requirement already satisfied: requests in c:\\users\\admin\\anaconda3\\envs\\prem\\lib\\site-packages (2.28.1)\n",
      "Requirement already satisfied: charset-normalizer<3,>=2 in c:\\users\\admin\\anaconda3\\envs\\prem\\lib\\site-packages (from requests) (2.1.1)\n",
      "Requirement already satisfied: certifi>=2017.4.17 in c:\\users\\admin\\anaconda3\\envs\\prem\\lib\\site-packages (from requests) (2022.9.24)\n",
      "Requirement already satisfied: urllib3<1.27,>=1.21.1 in c:\\users\\admin\\anaconda3\\envs\\prem\\lib\\site-packages (from requests) (1.26.13)\n",
      "Requirement already satisfied: idna<4,>=2.5 in c:\\users\\admin\\anaconda3\\envs\\prem\\lib\\site-packages (from requests) (3.4)\n",
      "Note: you may need to restart the kernel to use updated packages.\n"
     ]
    }
   ],
   "source": [
    "pip install requests"
   ]
  },
  {
   "cell_type": "code",
   "execution_count": 3,
   "id": "00bf6e31",
   "metadata": {},
   "outputs": [],
   "source": [
    "from bs4 import BeautifulSoup"
   ]
  },
  {
   "cell_type": "code",
   "execution_count": 4,
   "id": "cc5d7620",
   "metadata": {},
   "outputs": [],
   "source": [
    "import requests"
   ]
  },
  {
   "cell_type": "code",
   "execution_count": 5,
   "id": "dbcdd08f",
   "metadata": {},
   "outputs": [],
   "source": [
    "url=\"https://consumer.bluestarindia.com/festive-offer.html\""
   ]
  },
  {
   "cell_type": "code",
   "execution_count": 7,
   "id": "14e32a15",
   "metadata": {},
   "outputs": [],
   "source": [
    "respones=requests.get(url)"
   ]
  },
  {
   "cell_type": "code",
   "execution_count": 8,
   "id": "289508e2",
   "metadata": {},
   "outputs": [
    {
     "data": {
      "text/plain": [
       "<Response [200]>"
      ]
     },
     "execution_count": 8,
     "metadata": {},
     "output_type": "execute_result"
    }
   ],
   "source": [
    "respones"
   ]
  },
  {
   "cell_type": "code",
   "execution_count": 53,
   "id": "0ce46d2c",
   "metadata": {},
   "outputs": [],
   "source": [
    "soup=BeautifulSoup(respones.text)"
   ]
  },
  {
   "cell_type": "code",
   "execution_count": 54,
   "id": "c73c649b",
   "metadata": {},
   "outputs": [],
   "source": [
    "name=soup.select(\".ratestar+ .product-item-link\")"
   ]
  },
  {
   "cell_type": "code",
   "execution_count": 55,
   "id": "83cbe6b4",
   "metadata": {},
   "outputs": [],
   "source": [
    "price=soup.select(\"#product-price-329 .price , #product-price-611 .price , #product-price-624 .price , #product-price-620 .price\")"
   ]
  },
  {
   "cell_type": "code",
   "execution_count": 61,
   "id": "0811d817",
   "metadata": {},
   "outputs": [],
   "source": [
    "import pandas as pd"
   ]
  },
  {
   "cell_type": "code",
   "execution_count": 64,
   "id": "97c0bed4",
   "metadata": {},
   "outputs": [],
   "source": [
    "bluestar=pd.DataFrame(name,columns=[\"name\"])\n",
    "bluestar[\"price\"]=price"
   ]
  },
  {
   "cell_type": "code",
   "execution_count": 65,
   "id": "1f70df4b",
   "metadata": {
    "scrolled": true
   },
   "outputs": [
    {
     "data": {
      "text/html": [
       "<div>\n",
       "<style scoped>\n",
       "    .dataframe tbody tr th:only-of-type {\n",
       "        vertical-align: middle;\n",
       "    }\n",
       "\n",
       "    .dataframe tbody tr th {\n",
       "        vertical-align: top;\n",
       "    }\n",
       "\n",
       "    .dataframe thead th {\n",
       "        text-align: right;\n",
       "    }\n",
       "</style>\n",
       "<table border=\"1\" class=\"dataframe\">\n",
       "  <thead>\n",
       "    <tr style=\"text-align: right;\">\n",
       "      <th></th>\n",
       "      <th>name</th>\n",
       "      <th>price</th>\n",
       "    </tr>\n",
       "  </thead>\n",
       "  <tbody>\n",
       "    <tr>\n",
       "      <th>0</th>\n",
       "      <td>\\nFNU | INVERTER AC | 3 STAR | 1.5 TON</td>\n",
       "      <td>[₹37,990]</td>\n",
       "    </tr>\n",
       "    <tr>\n",
       "      <th>1</th>\n",
       "      <td>\\nFLU | INVERTER AC | 5 STAR* | 1.5 TON</td>\n",
       "      <td>[₹42,990]</td>\n",
       "    </tr>\n",
       "    <tr>\n",
       "      <th>2</th>\n",
       "      <td>\\nVNUS (Smart) | INVERTER AC | 3 STAR | 1.5 TON</td>\n",
       "      <td>[₹40,990]</td>\n",
       "    </tr>\n",
       "    <tr>\n",
       "      <th>3</th>\n",
       "      <td>\\nPC12DB | Portable AC | 1 Ton</td>\n",
       "      <td>[₹35,990]</td>\n",
       "    </tr>\n",
       "  </tbody>\n",
       "</table>\n",
       "</div>"
      ],
      "text/plain": [
       "                                               name      price\n",
       "0           \\nFNU | INVERTER AC | 3 STAR | 1.5 TON   [₹37,990]\n",
       "1          \\nFLU | INVERTER AC | 5 STAR* | 1.5 TON   [₹42,990]\n",
       "2  \\nVNUS (Smart) | INVERTER AC | 3 STAR | 1.5 TON   [₹40,990]\n",
       "3                   \\nPC12DB | Portable AC | 1 Ton   [₹35,990]"
      ]
     },
     "execution_count": 65,
     "metadata": {},
     "output_type": "execute_result"
    }
   ],
   "source": [
    "bluestar"
   ]
  },
  {
   "cell_type": "code",
   "execution_count": 67,
   "id": "4f07237f",
   "metadata": {},
   "outputs": [],
   "source": [
    "bluestar.to_csv(\"D:/prem/acc.csv\")"
   ]
  }
 ],
 "metadata": {
  "kernelspec": {
   "display_name": "Python 3 (ipykernel)",
   "language": "python",
   "name": "python3"
  },
  "language_info": {
   "codemirror_mode": {
    "name": "ipython",
    "version": 3
   },
   "file_extension": ".py",
   "mimetype": "text/x-python",
   "name": "python",
   "nbconvert_exporter": "python",
   "pygments_lexer": "ipython3",
   "version": "3.10.8"
  }
 },
 "nbformat": 4,
 "nbformat_minor": 5
}
